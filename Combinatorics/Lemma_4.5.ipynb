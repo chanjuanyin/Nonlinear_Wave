{
 "cells": [
  {
   "cell_type": "code",
   "execution_count": 1,
   "metadata": {},
   "outputs": [
    {
     "name": "stdout",
     "output_type": "stream",
     "text": [
      "LHS = 0.24609375\n",
      "RHS = 0.24609375000000003\n"
     ]
    }
   ],
   "source": [
    "import math\n",
    "\n",
    "l = 4\n",
    "M = 3\n",
    "\n",
    "def binomial_coefficient(l_j):\n",
    "    nominator = math.gamma(l_j + (1/(M - 1)))\n",
    "    denominator_1 = math.gamma(l_j + 1)\n",
    "    denominator_2 = math.gamma(1/(M - 1))\n",
    "    return nominator / (denominator_1 * denominator_2)\n",
    "\n",
    "def recursive_function(remaining_M, remaining_l):\n",
    "    if remaining_M > 1:\n",
    "        sum = 0\n",
    "        for l_j in range(remaining_l + 1):\n",
    "            sum += binomial_coefficient(l_j) * recursive_function(remaining_M - 1, remaining_l - l_j)\n",
    "        return sum\n",
    "    else: # remaining_M == 1:\n",
    "        return binomial_coefficient(remaining_l)\n",
    "\n",
    "LHS = recursive_function(M, l)\n",
    "LHS /= ( (l+1) * (M-1) )\n",
    "\n",
    "RHS = binomial_coefficient(l+1)\n",
    "\n",
    "print(f\"LHS = {LHS}\\nRHS = {RHS}\")"
   ]
  },
  {
   "cell_type": "code",
   "execution_count": null,
   "metadata": {},
   "outputs": [],
   "source": []
  }
 ],
 "metadata": {
  "kernelspec": {
   "display_name": "Python 3",
   "language": "python",
   "name": "python3"
  },
  "language_info": {
   "codemirror_mode": {
    "name": "ipython",
    "version": 3
   },
   "file_extension": ".py",
   "mimetype": "text/x-python",
   "name": "python",
   "nbconvert_exporter": "python",
   "pygments_lexer": "ipython3",
   "version": "3.7.9"
  }
 },
 "nbformat": 4,
 "nbformat_minor": 2
}
